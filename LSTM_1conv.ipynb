{
 "cells": [
  {
   "cell_type": "code",
   "execution_count": 1,
   "id": "f9cb0388",
   "metadata": {},
   "outputs": [
    {
     "data": {
      "text/plain": [
       "'\\n    number of trajectories in each city\\n    # austin --  train: 43041 test: 6325 \\n    # miami -- train: 55029 test:7971\\n    # pittsburgh -- train: 43544 test: 6361\\n    # dearborn -- train: 24465 test: 3671\\n    # washington-dc -- train: 25744 test: 3829\\n    # palo-alto -- train:  11993 test:1686\\n\\n    trajectories sampled at 10HZ rate, input 5 seconds, output 6 seconds\\n    \\n'"
      ]
     },
     "execution_count": 1,
     "metadata": {},
     "output_type": "execute_result"
    }
   ],
   "source": [
    "import torch\n",
    "from torch.utils.data import Dataset, DataLoader\n",
    "import os, os.path \n",
    "import numpy \n",
    "import pickle\n",
    "from sklearn.preprocessing import MinMaxScaler, StandardScaler\n",
    "from glob import glob\n",
    "from torch import nn, optim\n",
    "\n",
    "\"\"\"\n",
    "    number of trajectories in each city\n",
    "    # austin --  train: 43041 test: 6325 \n",
    "    # miami -- train: 55029 test:7971\n",
    "    # pittsburgh -- train: 43544 test: 6361\n",
    "    # dearborn -- train: 24465 test: 3671\n",
    "    # washington-dc -- train: 25744 test: 3829\n",
    "    # palo-alto -- train:  11993 test:1686\n",
    "\n",
    "    trajectories sampled at 10HZ rate, input 5 seconds, output 6 seconds\n",
    "    \n",
    "\"\"\""
   ]
  },
  {
   "cell_type": "code",
   "execution_count": 2,
   "id": "76010129",
   "metadata": {},
   "outputs": [],
   "source": [
    "from glob import glob\n",
    "import pickle\n",
    "import numpy as np\n",
    "\n",
    "ROOT_PATH = \"./\"\n",
    "\n",
    "cities = [\"austin\",\"miami\" ,\"pittsburgh\", \"dearborn\", \"washington-dc\", \"palo-alto\"]\n",
    "splits = [\"train\", \"test\"]\n",
    "\n",
    "def get_city_trajectories(city=\"palo-alto\", split=\"train\", normalized=False):\n",
    "\n",
    "    \n",
    "    outputs = None\n",
    "    \n",
    "    if split==\"train\":\n",
    "        f_in = ROOT_PATH + split + \"/\" + city + \"_inputs\"\n",
    "        inputs = pickle.load(open(f_in, \"rb\"))\n",
    "        n = len(inputs)\n",
    "        inputs = np.asarray(inputs)[:int(n * 0.8)]\n",
    "        \n",
    "        f_out = ROOT_PATH + split + \"/\" + city + \"_outputs\"\n",
    "        outputs = pickle.load(open(f_out, \"rb\"))\n",
    "        outputs = np.asarray(outputs)[:int(n * 0.8)]\n",
    "        \n",
    "    elif split == 'val':\n",
    "        f_in = ROOT_PATH + 'train' + \"/\" + city + \"_inputs\"\n",
    "        inputs = pickle.load(open(f_in, \"rb\"))\n",
    "        n = len(inputs)\n",
    "        inputs = np.asarray(inputs)[int(n * 0.8):]\n",
    "        \n",
    "        f_out = ROOT_PATH + 'train' + \"/\" + city + \"_outputs\"\n",
    "        outputs = pickle.load(open(f_out, \"rb\"))\n",
    "        outputs = np.asarray(outputs)[int(n * 0.8):]\n",
    "    \n",
    "    elif split==\"test\":\n",
    "        f_in = ROOT_PATH + \"test\" + \"/\" + city + \"_inputs\"\n",
    "        inputs = pickle.load(open(f_in, \"rb\"))\n",
    "        n = len(inputs)\n",
    "        outputs = pickle.load(open(ROOT_PATH + 'train' + \"/\" + city + \"_outputs\", \"rb\")) #this isnt actually used\n",
    "        inputs = np.asarray(inputs)\n",
    "\n",
    "    return inputs, outputs\n",
    "\n",
    "class ArgoverseDataset(Dataset):\n",
    "    \"\"\"Dataset class for Argoverse\"\"\"\n",
    "    def __init__(self, city: str, split:str, transform=None):\n",
    "        super(ArgoverseDataset, self).__init__()\n",
    "        self.transform = transform\n",
    "\n",
    "        self.inputs, self.outputs = get_city_trajectories(city=city, split=split, normalized=False)\n",
    "\n",
    "    def __len__(self):\n",
    "        return len(self.inputs)\n",
    "\n",
    "    def __getitem__(self, idx):\n",
    "\n",
    "        data = (self.inputs[idx], self.outputs[idx])\n",
    "            \n",
    "        if self.transform:\n",
    "            data = self.transform(data)\n",
    "\n",
    "        return data\n",
    "\n",
    "# intialize a dataset\n",
    "city = 'palo-alto' \n",
    "split = 'train'\n",
    "train_dataset  = ArgoverseDataset(city = city, split = split)"
   ]
  },
  {
   "cell_type": "code",
   "execution_count": 3,
   "id": "1cfe7bc3",
   "metadata": {},
   "outputs": [],
   "source": [
    "for i in range(1,len(cities)):\n",
    "    train_dataset2=ArgoverseDataset(city = cities[i], split = split)\n",
    "    train_dataset=train_dataset+train_dataset2"
   ]
  },
  {
   "cell_type": "code",
   "execution_count": 4,
   "id": "b18ccc06",
   "metadata": {},
   "outputs": [],
   "source": [
    "val_dataset = ArgoverseDataset(city = city, split = 'val')"
   ]
  },
  {
   "cell_type": "code",
   "execution_count": 5,
   "id": "8d673dd7",
   "metadata": {},
   "outputs": [],
   "source": [
    "for i in range(1,len(cities)):\n",
    "    val_dataset2=ArgoverseDataset(city = cities[i], split = split)\n",
    "    val_dataset=val_dataset+val_dataset2"
   ]
  },
  {
   "cell_type": "code",
   "execution_count": 6,
   "id": "15680aad",
   "metadata": {},
   "outputs": [
    {
     "data": {
      "text/plain": [
       "131018"
      ]
     },
     "execution_count": 6,
     "metadata": {},
     "output_type": "execute_result"
    }
   ],
   "source": [
    "len(val_dataset)"
   ]
  },
  {
   "cell_type": "code",
   "execution_count": 7,
   "id": "b4aedab5",
   "metadata": {},
   "outputs": [],
   "source": [
    "batch_sz = 4  # batch size \n",
    "train_loader = DataLoader(train_dataset,batch_size=batch_sz,shuffle=False)"
   ]
  },
  {
   "cell_type": "code",
   "execution_count": 8,
   "id": "83900fb7",
   "metadata": {},
   "outputs": [],
   "source": [
    "def fitData(x, y, transform=\"MinMax\"):\n",
    "    if transform == 'MinMax':\n",
    "        scaler = MinMaxScaler()\n",
    "    elif transform == \"Standard\":\n",
    "        scaler = StandardScaler()\n",
    "    else:\n",
    "        return x, y\n",
    "\n",
    "    scaler.fit(x.reshape(-1, 2))\n",
    "    scaler.fit(y.reshape(-1, 2))\n",
    "    x_ = scaler.transform(x.reshape(-1, 2)).reshape(-1, 50, 2)\n",
    "    y_ = scaler.transform(y.reshape(-1, 2)).reshape(-1, 60, 2)\n",
    "\n",
    "    return x_, y_, scaler"
   ]
  },
  {
   "cell_type": "code",
   "execution_count": 9,
   "id": "a3e5da92",
   "metadata": {},
   "outputs": [],
   "source": [
    "device = torch.device('cuda:0' if torch.cuda.is_available() else 'cuda:0')\n",
    "input_size = 2\n",
    "hidden_size = 256\n",
    "output_size = 60\n",
    "batch_size = 4\n",
    "n_layers = 2\n",
    "seq_len = 50\n",
    "epochs = 11"
   ]
  },
  {
   "cell_type": "code",
   "execution_count": 10,
   "id": "7fcaf3c5",
   "metadata": {},
   "outputs": [],
   "source": [
    "import torch.nn.functional as F\n",
    "class RNN(nn.Module):\n",
    "    def __init__(self, input_size, hidden_size, output_size, n_layers=1):\n",
    "        super(RNN, self).__init__()\n",
    "        self.input_size = input_size\n",
    "        self.hidden_size = hidden_size\n",
    "        self.output_size = output_size\n",
    "        self.n_layers = n_layers\n",
    "\n",
    "        self.c1 = nn.Conv1d(input_size, hidden_size, 2)\n",
    "        self.p1 = nn.MaxPool1d(4)\n",
    "        self.c2 = nn.Conv1d(hidden_size, hidden_size, 1)\n",
    "        self.p2 = nn.MaxPool1d(5)\n",
    "        self.lstm = nn.LSTM(hidden_size, hidden_size, n_layers, dropout=0.01)\n",
    "        self.out = nn.Linear(hidden_size, output_size)\n",
    "\n",
    "    def forward(self, inputs, hidden):\n",
    "        batch_size = inputs.shape[0]\n",
    "        \n",
    "\n",
    "        # Run through Conv1d and Pool1d layers\n",
    "        c = self.c1(inputs).to(device)\n",
    "        p = self.p1(c).to(device)\n",
    "        c = self.c2(p).to(device)\n",
    "        p = self.p2(c).to(device)\n",
    "        # Turn (batch_size x hidden_size x seq_len) back into (seq_len x batch_size x hidden_size) for RNN\n",
    "        p = p.transpose(1, 2).transpose(0, 1).to(device)\n",
    "        \n",
    "        p = F.relu(p)#.to(device)\n",
    "        output, hidden = self.lstm(p, hidden)\n",
    "        conv_seq_len = output.shape[0]\n",
    "        output = output.view(conv_seq_len * batch_size, self.hidden_size).to(device) # Treating (conv_seq_len x batch_size) as batch_size for linear layer\n",
    "#         output = torch.tanh(self.out(output))\n",
    "        output = self.out(output).to(device)\n",
    "        output = output.view( -1, self.output_size, conv_seq_len).to(device)\n",
    "        return output, hidden"
   ]
  },
  {
   "cell_type": "code",
   "execution_count": 11,
   "id": "b1740be6",
   "metadata": {},
   "outputs": [],
   "source": [
    "rnn = RNN(input_size, hidden_size, output_size, n_layers=n_layers).to(device)\n",
    "optimizer = optim.Adam(rnn.parameters(), lr = 0.01)\n",
    "lossFunction = nn.MSELoss().to(torch.float32)"
   ]
  },
  {
   "cell_type": "code",
   "execution_count": 12,
   "id": "fe1e0c9b",
   "metadata": {},
   "outputs": [
    {
     "name": "stderr",
     "output_type": "stream",
     "text": [
      "/opt/conda/lib/python3.9/site-packages/torch/nn/functional.py:652: UserWarning: Named tensors and all their associated APIs are an experimental feature and subject to change. Please do not use them for anything important until they are released as stable. (Triggered internally at  /pytorch/c10/core/TensorImpl.h:1156.)\n",
      "  return torch.max_pool1d(input, kernel_size, stride, padding, dilation, ceil_mode)\n"
     ]
    },
    {
     "name": "stdout",
     "output_type": "stream",
     "text": [
      "epoch 0 loss: 20.502850821111835\n",
      "epoch 1 loss: 20.475154080307128\n"
     ]
    },
    {
     "data": {
      "text/plain": [
       "Text(0, 0.5, 'Loss')"
      ]
     },
     "execution_count": 12,
     "metadata": {},
     "output_type": "execute_result"
    },
    {
     "data": {
      "image/png": "[encoded data removed]",
      "text/plain": [
       "<Figure size 432x288 with 1 Axes>"
      ]
     },
     "metadata": {
      "needs_background": "light"
     },
     "output_type": "display_data"
    }
   ],
   "source": [
    "import matplotlib.pyplot as plt\n",
    "epochs=[]\n",
    "losses=[]\n",
    "for epoch in range(2):\n",
    "    \n",
    "    total_loss = 0\n",
    "    for i_batch, sample_batch in enumerate(train_loader):\n",
    "        inp, out = sample_batch\n",
    "        inp, out, scaler = fitData(inp, out, 'MinMax')\n",
    "        inp=torch.from_numpy(inp)\n",
    "        out=torch.from_numpy(out)\n",
    "        inp, out = inp.to(device).to(torch.float32), out.to(device).to(torch.float32)\n",
    "        #print(inp.shape)\n",
    "        preds,hidden = rnn(inp.transpose(1,2).float(), None)\n",
    "        #print(preds.shape)\n",
    "        #print(out.shape)\n",
    "        loss = ((preds - out) ** 2).sum()\n",
    "        optimizer.zero_grad()\n",
    "        loss.backward()\n",
    "        optimizer.step()\n",
    "        total_loss += loss.item()\n",
    "        epochs.append(epoch)\n",
    "        losses.append(total_loss / len(train_dataset))\n",
    "    print('epoch {} loss: {}'.format(epoch, total_loss / len(train_dataset)))\n",
    "plt.plot(epochs,losses)\n",
    "plt.title(\"Regression Training Loss\")\n",
    "plt.xlabel(\"Epochs\")\n",
    "plt.ylabel(\"Loss\")"
   ]
  },
  {
   "cell_type": "code",
   "execution_count": 13,
   "id": "4a4f96e7",
   "metadata": {},
   "outputs": [
    {
     "name": "stdout",
     "output_type": "stream",
     "text": [
      "loss: 19.75657613678251\n"
     ]
    }
   ],
   "source": [
    "val_loader = DataLoader(val_dataset,batch_size=batch_sz,shuffle=True)\n",
    "\n",
    "val_loss = 0\n",
    "for i_batch, sample_batch in enumerate(val_loader):\n",
    "    inp, out = sample_batch\n",
    "    inp, out, scaler = fitData(inp, out, 'MinMax')\n",
    "    inp=torch.from_numpy(inp)\n",
    "    out=torch.from_numpy(out)\n",
    "    inp, out = inp.to(device).to(torch.float32), out.to(device).to(torch.float32)\n",
    "    #print(inp.shape)\n",
    "    preds,hidden = rnn(inp.transpose(1,2).float(), None)\n",
    "    #print(preds.shape)\n",
    "    #print(out.shape)\n",
    "    loss = ((preds - out) ** 2).sum()\n",
    "    optimizer.zero_grad()\n",
    "    loss.backward()\n",
    "    optimizer.step()\n",
    "    val_loss += loss.item()\n",
    "print('loss: {}'.format(val_loss / len(val_dataset)))"
   ]
  }
 ],
 "metadata": {
  "kernelspec": {
   "display_name": "Python 3 (ipykernel)",
   "language": "python",
   "name": "python3"
  },
  "language_info": {
   "codemirror_mode": {
    "name": "ipython",
    "version": 3
   },
   "file_extension": ".py",
   "mimetype": "text/x-python",
   "name": "python",
   "nbconvert_exporter": "python",
   "pygments_lexer": "ipython3",
   "version": "3.9.5"
  }
 },
 "nbformat": 4,
 "nbformat_minor": 5
}
