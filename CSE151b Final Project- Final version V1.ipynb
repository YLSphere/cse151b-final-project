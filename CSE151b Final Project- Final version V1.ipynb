{
 "cells": [
  {
   "cell_type": "markdown",
   "id": "718c38cf",
   "metadata": {},
   "source": [
    "## Install the package dependencies before running this notebook"
   ]
  },
  {
   "cell_type": "code",
   "execution_count": 1,
   "id": "16ac7530",
   "metadata": {},
   "outputs": [
    {
     "data": {
      "text/plain": [
       "'\\n    number of trajectories in each city\\n    # austin --  train: 43041 test: 6325 \\n    # miami -- train: 55029 test:7971\\n    # pittsburgh -- train: 43544 test: 6361\\n    # dearborn -- train: 24465 test: 3671\\n    # washington-dc -- train: 25744 test: 3829\\n    # palo-alto -- train:  11993 test:1686\\n\\n    trajectories sampled at 10HZ rate, input 5 seconds, output 6 seconds\\n    \\n'"
      ]
     },
     "execution_count": 1,
     "metadata": {},
     "output_type": "execute_result"
    }
   ],
   "source": [
    "import torch\n",
    "from torch.utils.data import Dataset, DataLoader\n",
    "import os, os.path \n",
    "import numpy \n",
    "import pickle\n",
    "from glob import glob\n",
    "import matplotlib.pyplot as plt\n",
    "import random\n",
    "import torch\n",
    "import torch.nn as nn\n",
    "import torch.optim as optim\n",
    "import torch.nn.functional as F\n",
    "from tqdm import tqdm\n",
    "\n",
    "\n",
    "\"\"\"\n",
    "    number of trajectories in each city\n",
    "    # austin --  train: 43041 test: 6325 \n",
    "    # miami -- train: 55029 test:7971\n",
    "    # pittsburgh -- train: 43544 test: 6361\n",
    "    # dearborn -- train: 24465 test: 3671\n",
    "    # washington-dc -- train: 25744 test: 3829\n",
    "    # palo-alto -- train:  11993 test:1686\n",
    "\n",
    "    trajectories sampled at 10HZ rate, input 5 seconds, output 6 seconds\n",
    "    \n",
    "\"\"\""
   ]
  },
  {
   "cell_type": "markdown",
   "id": "0b472cf2",
   "metadata": {},
   "source": [
    "## Create a Torch.Dataset class for the training dataset"
   ]
  },
  {
   "cell_type": "code",
   "execution_count": 267,
   "id": "091abbb7",
   "metadata": {},
   "outputs": [],
   "source": [
    "from glob import glob\n",
    "import pickle\n",
    "import numpy as np\n",
    "\n",
    "ROOT_PATH = \"./\"\n",
    "\n",
    "cities = [\"austin\", \"miami\", \"pittsburgh\", \"dearborn\", \"washington-dc\", \"palo-alto\"]\n",
    "splits = [\"train\", \"test\"]\n",
    "\n",
    "def get_city_trajectories(city=\"palo-alto\", split=\"train\", normalized=False):\n",
    "    f_in = ROOT_PATH + split + \"/\" + city + \"_inputs\"\n",
    "    inputs = pickle.load(open(f_in, \"rb\"))\n",
    "    inputs = np.asarray(inputs)\n",
    "    \n",
    "    outputs = None\n",
    "    \n",
    "    if split==\"train\":\n",
    "        f_out = ROOT_PATH + split + \"/\" + city + \"_outputs\"\n",
    "        outputs = pickle.load(open(f_out, \"rb\"))\n",
    "        outputs = np.asarray(outputs)\n",
    "\n",
    "    return inputs, outputs\n",
    "\n",
    "class ArgoverseDataset(Dataset):\n",
    "    \"\"\"Dataset class for Argoverse\"\"\"\n",
    "    def __init__(self, city: str, split:str, transform=None):\n",
    "        super(ArgoverseDataset, self).__init__()\n",
    "        self.transform = transform\n",
    "\n",
    "        self.inputs, self.outputs = get_city_trajectories(city=city, split=split, normalized=False)\n",
    "\n",
    "    def __len__(self):\n",
    "        return len(self.inputs)\n",
    "\n",
    "    def __getitem__(self, idx):\n",
    "\n",
    "        data = (self.inputs[idx], self.outputs[idx])\n",
    "            \n",
    "        if self.transform:\n",
    "            data = self.transform(data)\n",
    "\n",
    "        return data\n",
    "\n",
    "# intialize a dataset\n",
    "city = 'palo-alto' \n",
    "split = 'train'\n",
    "train_dataset  = ArgoverseDataset(city = city, split = split)"
   ]
  },
  {
   "cell_type": "markdown",
   "id": "058453cc",
   "metadata": {},
   "source": [
    "## Create a DataLoader class for training"
   ]
  },
  {
   "cell_type": "code",
   "execution_count": 268,
   "id": "6f54c286",
   "metadata": {},
   "outputs": [],
   "source": [
    "# Data Normalization\n",
    "\n",
    "loader = DataLoader(train_dataset, batch_size=len(train_dataset))\n",
    "data = next(iter(loader))\n",
    "\n",
    "x = data[0].flatten(0,1).transpose(0,1)[0]\n",
    "y = data[0].flatten(0,1).transpose(0,1)[1]\n",
    "xMean, xStd, yMean, yStd = x.mean(), x.std(), y.mean(), y.std()"
   ]
  },
  {
   "cell_type": "code",
   "execution_count": 269,
   "id": "5c14f0e7",
   "metadata": {},
   "outputs": [],
   "source": [
    "batch_sz = 64  # batch size \n",
    "train_loader = DataLoader(train_dataset,batch_size=batch_sz)"
   ]
  },
  {
   "cell_type": "markdown",
   "id": "8ad8d5e7",
   "metadata": {},
   "source": [
    "## Data Visualization"
   ]
  },
  {
   "cell_type": "markdown",
   "id": "ef942a79",
   "metadata": {},
   "source": [
    "### Heatmap of car routes"
   ]
  },
  {
   "cell_type": "code",
   "execution_count": 5,
   "id": "030a9252",
   "metadata": {
    "scrolled": false
   },
   "outputs": [
    {
     "name": "stdout",
     "output_type": "stream",
     "text": [
      "Heatmap of car routes in austin\n"
     ]
    },
    {
     "data": {
      "image/png": "[encoded data removed]",
      "text/plain": [
       "<Figure size 432x288 with 1 Axes>"
      ]
     },
     "metadata": {
      "needs_background": "light"
     },
     "output_type": "display_data"
    },
    {
     "name": "stdout",
     "output_type": "stream",
     "text": [
      "Heatmap of car routes in miami\n"
     ]
    },
    {
     "data": {
      "image/png": "[encoded data removed]",
      "text/plain": [
       "<Figure size 432x288 with 1 Axes>"
      ]
     },
     "metadata": {
      "needs_background": "light"
     },
     "output_type": "display_data"
    },
    {
     "name": "stdout",
     "output_type": "stream",
     "text": [
      "Heatmap of car routes in pittsburgh\n"
     ]
    },
    {
     "data": {
      "image/png": "[encoded data removed]",
      "text/plain": [
       "<Figure size 432x288 with 1 Axes>"
      ]
     },
     "metadata": {
      "needs_background": "light"
     },
     "output_type": "display_data"
    },
    {
     "name": "stdout",
     "output_type": "stream",
     "text": [
      "Heatmap of car routes in dearborn\n"
     ]
    },
    {
     "data": {
      "image/png": "[encoded data removed]",
      "text/plain": [
       "<Figure size 432x288 with 1 Axes>"
      ]
     },
     "metadata": {
      "needs_background": "light"
     },
     "output_type": "display_data"
    },
    {
     "name": "stdout",
     "output_type": "stream",
     "text": [
      "Heatmap of car routes in washington-dc\n"
     ]
    },
    {
     "data": {
      "image/png": "[encoded data removed]",
      "text/plain": [
       "<Figure size 432x288 with 1 Axes>"
      ]
     },
     "metadata": {
      "needs_background": "light"
     },
     "output_type": "display_data"
    },
    {
     "name": "stdout",
     "output_type": "stream",
     "text": [
      "Heatmap of car routes in palo-alto\n"
     ]
    },
    {
     "data": {
      "image/png": "[encoded data removed]",
      "text/plain": [
       "<Figure size 432x288 with 1 Axes>"
      ]
     },
     "metadata": {
      "needs_background": "light"
     },
     "output_type": "display_data"
    }
   ],
   "source": [
    "for n in cities:\n",
    "    x = []\n",
    "    y = []\n",
    "\n",
    "    inp, out = get_city_trajectories(city=n)\n",
    "    for i in inp:\n",
    "        x += list(i.T[0])\n",
    "        y += list(i.T[1])\n",
    "    heatmap, xedges, yedges = np.histogram2d(x, y, bins=200)\n",
    "    extent = [xedges[0], xedges[-1], yedges[0], yedges[-1]]\n",
    "\n",
    "    print('Heatmap of car routes in %s' %(n))\n",
    "    plt.clf()\n",
    "    plt.imshow(heatmap.T, extent=extent, origin='lower', cmap = 'hot')\n",
    "    plt.show()\n",
    "        \n"
   ]
  },
  {
   "cell_type": "markdown",
   "id": "85ba06a1",
   "metadata": {},
   "source": [
    "## Sample a batch of data and visualize "
   ]
  },
  {
   "cell_type": "code",
   "execution_count": 6,
   "id": "0cd40ebc",
   "metadata": {},
   "outputs": [],
   "source": [
    "def show_sample_batch(sample_batch):\n",
    "    \"\"\"visualize the trajectory for a batch of samples\"\"\"\n",
    "    inp, out = sample_batch\n",
    "    batch_sz = inp.size(0)\n",
    "    agent_sz = inp.size(1)\n",
    "    \n",
    "    fig, axs = plt.subplots(1,batch_sz, figsize=(15, 3), facecolor='w', edgecolor='k')\n",
    "    fig.subplots_adjust(hspace = .5, wspace=.001)\n",
    "    axs = axs.ravel()   \n",
    "    for i in range(batch_sz):\n",
    "        axs[i].xaxis.set_ticks([])\n",
    "        axs[i].yaxis.set_ticks([])\n",
    "        \n",
    "        # first two feature dimensions are (x,y) positions\n",
    "        axs[i].scatter(inp[i,:,0], inp[i,:,1])\n",
    "        axs[i].scatter(out[i,:,0], out[i,:,1])\n",
    "    for i_batch, sample_batch in enumerate(train_loader):\n",
    "        show_sample_batch(sample_batch)\n",
    "        break"
   ]
  },
  {
   "cell_type": "markdown",
   "id": "60afbada",
   "metadata": {},
   "source": [
    "## Feature Engineering"
   ]
  },
  {
   "cell_type": "markdown",
   "id": "62f6199a",
   "metadata": {},
   "source": [
    "## LSTM to FC Layer Model w/ no sequence length modifying"
   ]
  },
  {
   "cell_type": "code",
   "execution_count": 7,
   "id": "12196168",
   "metadata": {},
   "outputs": [],
   "source": [
    "device = torch.device('cuda' if torch.cuda.is_available() else 'cpu')\n",
    "torch.cuda.empty_cache()"
   ]
  },
  {
   "cell_type": "code",
   "execution_count": 8,
   "id": "3054bddf",
   "metadata": {},
   "outputs": [],
   "source": [
    "# Parameter initialization\n",
    "\n",
    "hidden_size = 128\n",
    "epochs = 30\n",
    "lr = 0.001\n",
    "feature_size = 2\n",
    "inp_seq_len = 1\n",
    "num_layers = 2\n",
    "out_seq_len = 60"
   ]
  },
  {
   "cell_type": "code",
   "execution_count": 9,
   "id": "cd673628",
   "metadata": {
    "scrolled": true
   },
   "outputs": [],
   "source": [
    "class LSTM(nn.Module):\n",
    "    def __init__(self, feature_size, hidden_size, num_layers):\n",
    "        super(LSTM, self).__init__()\n",
    "        \n",
    "        self.feature_size = feature_size\n",
    "        self.hidden_size = hidden_size\n",
    "        self.num_layers = num_layers\n",
    "\n",
    "        self.lstm1 = nn.LSTM(feature_size, hidden_size, num_layers, batch_first = True)\n",
    "        self.lstm2 = nn.LSTM(hidden_size, hidden_size, num_layers, batch_first = True)\n",
    "#         x -> (batch_size, seq_len, input_size)\n",
    "        self.fc1 = nn.Linear(hidden_size, hidden_size)\n",
    "        self.fc2 = nn.Linear(hidden_size, feature_size)\n",
    "    \n",
    "    def forward(self,x):\n",
    "        h0 = torch.zeros(num_layers, x.shape[0], self.hidden_size).to(device)\n",
    "        c0 = torch.zeros(num_layers, x.shape[0], self.hidden_size).to(device)\n",
    "             \n",
    "        out1, _ = self.lstm1(x, (h0, c0))\n",
    "        out2, _ = self.lstm2(out1, _)\n",
    "        \n",
    "\n",
    "#         out = out[:,-1,:]\n",
    "        fc1 = F.relu(self.fc1(out2))\n",
    "        out = self.fc2(fc1)\n",
    "        return out"
   ]
  },
  {
   "cell_type": "code",
   "execution_count": 10,
   "id": "b2ebeef3",
   "metadata": {
    "scrolled": false
   },
   "outputs": [],
   "source": [
    "lstm = LSTM(feature_size, hidden_size, num_layers).to(device)\n",
    "\n",
    "adam = optim.Adam(lstm.parameters(), lr = lr)\n",
    "\n",
    "lossFunction = nn.MSELoss().to(device)"
   ]
  },
  {
   "cell_type": "markdown",
   "id": "640648b6",
   "metadata": {},
   "source": [
    "### Training methods"
   ]
  },
  {
   "cell_type": "code",
   "execution_count": 11,
   "id": "effd68b1",
   "metadata": {},
   "outputs": [
    {
     "name": "stderr",
     "output_type": "stream",
     "text": [
      "188it [00:02, 72.62it/s]\n",
      "188it [00:02, 70.62it/s]\n",
      "188it [00:02, 85.73it/s]\n",
      "188it [00:02, 81.94it/s]\n",
      "188it [00:02, 76.46it/s]\n",
      "188it [00:02, 73.57it/s]\n",
      "188it [00:02, 80.31it/s]\n",
      "188it [00:02, 79.62it/s]\n",
      "188it [00:02, 89.58it/s]\n",
      "188it [00:02, 74.50it/s]\n",
      "188it [00:02, 79.48it/s]\n",
      "188it [00:02, 84.59it/s]\n",
      "188it [00:02, 83.39it/s]\n",
      "188it [00:02, 76.94it/s]\n",
      "188it [00:02, 77.23it/s]\n",
      "188it [00:02, 77.54it/s]\n",
      "188it [00:02, 74.37it/s]\n",
      "188it [00:02, 78.44it/s]\n",
      "188it [00:02, 84.27it/s]\n",
      "188it [00:02, 72.42it/s]\n",
      "188it [00:02, 86.26it/s]\n",
      "188it [00:01, 94.51it/s] \n",
      "188it [00:02, 83.52it/s]\n",
      "188it [00:02, 81.47it/s]\n",
      "188it [00:02, 79.40it/s]\n",
      "188it [00:02, 79.10it/s]\n",
      "188it [00:02, 84.90it/s]\n",
      "188it [00:02, 82.99it/s]\n",
      "188it [00:02, 84.56it/s]\n",
      "188it [00:02, 86.74it/s]\n"
     ]
    }
   ],
   "source": [
    "# TRAINING WITH DATA IMPUTING\n",
    "\n",
    "from sklearn.preprocessing import MinMaxScaler\n",
    "\n",
    "adamLosses = []\n",
    " # Initialize zero grad\n",
    "\n",
    "for n in range(epochs):\n",
    "    for i_batch, sample_batch in tqdm(enumerate(train_loader)):\n",
    "        inp, out = sample_batch\n",
    "        lstm.zero_grad()\n",
    "\n",
    "        inp = torch.div(torch.sub(inp, torch.tensor([xMean, yMean])), torch.tensor([xStd, yStd])) # Normalization\n",
    "        \n",
    "        inp, out = inp.to(device).to(torch.float32), out.to(device).to(torch.float32) \n",
    "            \n",
    "        splitted = torch.split(inp, 1, dim=1) # Split to get the last 10 inputs individually\n",
    "            \n",
    "        for i in range(1,11):\n",
    "            inp = torch.cat((inp, splitted[-i]),1) # Impute with last 10 inputs\n",
    "        \n",
    "        \n",
    "        outputs = lstm(inp)\n",
    "        loss = lossFunction(outputs, out)\n",
    "        adamLosses.append(loss)\n",
    "        loss.backward()\n",
    "        adam.step()"
   ]
  },
  {
   "cell_type": "code",
   "execution_count": 12,
   "id": "80a5add0",
   "metadata": {},
   "outputs": [],
   "source": [
    "adamLosses = [round(float(x),3) for x in adamLosses]"
   ]
  },
  {
   "cell_type": "code",
   "execution_count": 13,
   "id": "f4dec4a5",
   "metadata": {},
   "outputs": [
    {
     "data": {
      "image/png": "[encoded data removed]",
      "text/plain": [
       "<Figure size 432x288 with 1 Axes>"
      ]
     },
     "metadata": {
      "needs_background": "light"
     },
     "output_type": "display_data"
    }
   ],
   "source": [
    "# Loss plot with Adam optimizer\n",
    "\n",
    "plt.plot(range(len(adamLosses)), adamLosses)\n",
    "plt.show()"
   ]
  },
  {
   "cell_type": "code",
   "execution_count": 14,
   "id": "270b73eb",
   "metadata": {},
   "outputs": [
    {
     "data": {
      "text/plain": [
       "tensor([-1201.8894,  1265.0101], device='cuda:0')"
      ]
     },
     "execution_count": 14,
     "metadata": {},
     "output_type": "execute_result"
    }
   ],
   "source": [
    "out[0][0]"
   ]
  },
  {
   "cell_type": "code",
   "execution_count": 15,
   "id": "1bc5ba26",
   "metadata": {
    "scrolled": true
   },
   "outputs": [
    {
     "data": {
      "text/plain": [
       "tensor([-1229.2593,  1253.8906], device='cuda:0', grad_fn=<SelectBackward>)"
      ]
     },
     "execution_count": 15,
     "metadata": {},
     "output_type": "execute_result"
    }
   ],
   "source": [
    "outputs[0][0]"
   ]
  },
  {
   "cell_type": "code",
   "execution_count": 16,
   "id": "13a06ac6",
   "metadata": {},
   "outputs": [
    {
     "data": {
      "text/plain": [
       "[6027.523, 6996.873, 6369.143, 6066.353, 7466.231, 3817.378]"
      ]
     },
     "execution_count": 16,
     "metadata": {},
     "output_type": "execute_result"
    }
   ],
   "source": [
    "adamLosses[-6:]"
   ]
  },
  {
   "cell_type": "code",
   "execution_count": 17,
   "id": "3291c6d6",
   "metadata": {
    "scrolled": false
   },
   "outputs": [
    {
     "name": "stderr",
     "output_type": "stream",
     "text": [
      "188it [00:01, 123.64it/s]\n"
     ]
    }
   ],
   "source": [
    "# TESTING\n",
    "\n",
    "test_dataset  = ArgoverseDataset(city = city, split = 'train')\n",
    "test_loader = DataLoader(test_dataset,batch_size=batch_sz)\n",
    "\n",
    "test_loss = []\n",
    "\n",
    "for i_batch, sample_batch in tqdm(enumerate(test_loader)):\n",
    "        inp, out = sample_batch\n",
    "        inp = torch.div(torch.sub(inp, torch.tensor([xMean, yMean])), torch.tensor([xStd, yStd]))\n",
    "        inp, out = inp.to(device).to(torch.float32), out.to(device).to(torch.float32) \n",
    "\n",
    "        splitted = torch.split(inp, 1, dim=1) # Split to get the last 10 inputs individually\n",
    "            \n",
    "        for i in range(1,11):\n",
    "            inp = torch.cat((inp, splitted[-i]),1) # Impute with last 10 inputs\n",
    "        \n",
    "        outputs = lstm(inp)\n",
    "        \n",
    "        loss = lossFunction(outputs, out)\n",
    "        test_loss.append(loss)\n",
    "        "
   ]
  },
  {
   "cell_type": "code",
   "execution_count": 18,
   "id": "0968512e",
   "metadata": {},
   "outputs": [
    {
     "data": {
      "image/png": "[encoded data removed]",
      "text/plain": [
       "<Figure size 432x288 with 1 Axes>"
      ]
     },
     "metadata": {
      "needs_background": "light"
     },
     "output_type": "display_data"
    }
   ],
   "source": [
    "testLosses = [round(float(x),3) for x in test_loss]\n",
    "plt.plot(range(len(testLosses)), testLosses)\n",
    "plt.show()"
   ]
  },
  {
   "cell_type": "code",
   "execution_count": 19,
   "id": "57922e19",
   "metadata": {},
   "outputs": [
    {
     "data": {
      "text/plain": [
       "[9192.403,\n",
       " 7366.633,\n",
       " 7017.876,\n",
       " 6361.774,\n",
       " 5958.418,\n",
       " 5014.163,\n",
       " 3896.527,\n",
       " 5053.782,\n",
       " 4857.629,\n",
       " 6876.753,\n",
       " 9692.744,\n",
       " 5575.681,\n",
       " 4424.936,\n",
       " 4419.745,\n",
       " 5951.906,\n",
       " 4752.377,\n",
       " 7322.466,\n",
       " 5789.823,\n",
       " 4353.577,\n",
       " 5928.107,\n",
       " 6018.027,\n",
       " 9267.023,\n",
       " 7428.519,\n",
       " 7036.903,\n",
       " 6148.179,\n",
       " 10639.352,\n",
       " 10689.235,\n",
       " 5663.723,\n",
       " 6416.035,\n",
       " 5624.484,\n",
       " 4722.324,\n",
       " 5290.977,\n",
       " 5390.198,\n",
       " 7779.613,\n",
       " 5914.143,\n",
       " 6399.652,\n",
       " 5049.88,\n",
       " 5962.954,\n",
       " 5421.457,\n",
       " 6319.055,\n",
       " 4347.155,\n",
       " 7894.363,\n",
       " 7984.101,\n",
       " 8398.11,\n",
       " 6218.924,\n",
       " 5760.519,\n",
       " 6731.146,\n",
       " 4657.606,\n",
       " 4629.789,\n",
       " 10195.09,\n",
       " 7209.995,\n",
       " 5788.506,\n",
       " 5142.782,\n",
       " 7405.042,\n",
       " 6977.424,\n",
       " 5914.787,\n",
       " 7561.735,\n",
       " 6737.525,\n",
       " 4965.067,\n",
       " 6333.836,\n",
       " 6746.818,\n",
       " 6251.878,\n",
       " 4695.357,\n",
       " 6522.826,\n",
       " 4614.741,\n",
       " 8289.849,\n",
       " 6580.288,\n",
       " 10095.467,\n",
       " 5391.846,\n",
       " 4870.482,\n",
       " 6299.421,\n",
       " 5380.386,\n",
       " 4551.965,\n",
       " 6000.089,\n",
       " 6491.654,\n",
       " 6596.612,\n",
       " 4382.773,\n",
       " 6295.531,\n",
       " 8221.186,\n",
       " 7617.448,\n",
       " 14788.705,\n",
       " 5852.876,\n",
       " 7337.718,\n",
       " 4410.14,\n",
       " 5244.174,\n",
       " 6059.384,\n",
       " 6844.238,\n",
       " 7219.939,\n",
       " 6503.013,\n",
       " 6146.985,\n",
       " 5495.938,\n",
       " 9263.476,\n",
       " 6005.863,\n",
       " 8252.109,\n",
       " 4293.921,\n",
       " 12087.388,\n",
       " 6585.306,\n",
       " 4286.744,\n",
       " 5354.1,\n",
       " 6793.333,\n",
       " 5245.506,\n",
       " 4589.105,\n",
       " 6236.059,\n",
       " 5742.153,\n",
       " 5860.737,\n",
       " 6638.36,\n",
       " 4607.473,\n",
       " 11914.293,\n",
       " 5031.99,\n",
       " 8427.541,\n",
       " 4783.509,\n",
       " 7395.165,\n",
       " 4544.323,\n",
       " 6045.67,\n",
       " 6192.989,\n",
       " 8316.344,\n",
       " 5502.916,\n",
       " 4943.682,\n",
       " 5583.696,\n",
       " 6914.941,\n",
       " 5532.884,\n",
       " 7213.044,\n",
       " 7876.607,\n",
       " 8898.46,\n",
       " 5547.579,\n",
       " 5327.144,\n",
       " 4909.005,\n",
       " 4460.221,\n",
       " 5056.261,\n",
       " 9363.92,\n",
       " 7336.992,\n",
       " 4840.215,\n",
       " 5641.966,\n",
       " 8405.144,\n",
       " 5578.286,\n",
       " 3427.213,\n",
       " 9078.991,\n",
       " 4676.778,\n",
       " 5296.854,\n",
       " 5755.897,\n",
       " 4114.314,\n",
       " 8140.883,\n",
       " 4273.691,\n",
       " 6611.009,\n",
       " 5060.821,\n",
       " 4208.246,\n",
       " 4472.104,\n",
       " 6720.979,\n",
       " 8640.992,\n",
       " 4288.507,\n",
       " 5525.562,\n",
       " 6918.316,\n",
       " 6286.75,\n",
       " 5711.556,\n",
       " 4956.878,\n",
       " 7015.805,\n",
       " 5811.87,\n",
       " 10000.896,\n",
       " 5939.553,\n",
       " 5679.137,\n",
       " 4859.922,\n",
       " 6949.463,\n",
       " 6917.447,\n",
       " 4231.987,\n",
       " 6301.464,\n",
       " 5789.705,\n",
       " 5058.204,\n",
       " 5441.469,\n",
       " 4515.573,\n",
       " 3762.176,\n",
       " 5036.978,\n",
       " 4917.239,\n",
       " 5031.728,\n",
       " 5370.393,\n",
       " 6610.137,\n",
       " 5039.77,\n",
       " 3360.823,\n",
       " 5980.681,\n",
       " 5877.865,\n",
       " 5812.374,\n",
       " 3547.624,\n",
       " 4737.795,\n",
       " 5677.694,\n",
       " 7103.779,\n",
       " 5380.4,\n",
       " 5619.104,\n",
       " 6150.698,\n",
       " 3566.549]"
      ]
     },
     "execution_count": 19,
     "metadata": {},
     "output_type": "execute_result"
    }
   ],
   "source": [
    "testLosses"
   ]
  },
  {
   "cell_type": "code",
   "execution_count": 154,
   "id": "25620a19",
   "metadata": {},
   "outputs": [],
   "source": [
    "torch.cuda.empty_cache()"
   ]
  },
  {
   "cell_type": "markdown",
   "id": "bf5b055a",
   "metadata": {},
   "source": [
    "## LSTM to FC w/ sequence length modifying"
   ]
  },
  {
   "cell_type": "code",
   "execution_count": 279,
   "id": "bd05cff4",
   "metadata": {},
   "outputs": [],
   "source": [
    "# Parameter initialization\n",
    "\n",
    "hidden_size = 256\n",
    "epochs = 100\n",
    "lr = 0.01\n",
    "num_layers = 2\n",
    "out_seq_len = 60\n",
    "inp_seq_len = 50"
   ]
  },
  {
   "cell_type": "code",
   "execution_count": 280,
   "id": "a45c79ce",
   "metadata": {},
   "outputs": [],
   "source": [
    "class LSTM(nn.Module):\n",
    "    def __init__(self, feature_size, hidden_size, num_layers):\n",
    "        super(LSTM, self).__init__()\n",
    "        \n",
    "        self.feature_size = feature_size\n",
    "        self.hidden_size = hidden_size\n",
    "        self.num_layers = num_layers\n",
    "\n",
    "        self.lstm1 = nn.LSTM(inp_seq_len, hidden_size, num_layers, batch_first = True)\n",
    "        self.lstm2 = nn.LSTM(hidden_size, hidden_size, num_layers, batch_first = True)\n",
    "#         x -> (batch_size, seq_len, input_size)\n",
    "        self.fc1 = nn.Linear(hidden_size, hidden_size)\n",
    "        self.fc2 = nn.Linear(hidden_size, out_seq_len)\n",
    "    \n",
    "    def forward(self,x):\n",
    "        h0 = torch.zeros(self.num_layers, x.shape[0], self.hidden_size).to(device)\n",
    "        c0 = torch.zeros(self.num_layers, x.shape[0], self.hidden_size).to(device)\n",
    "             \n",
    "        out1, _ = self.lstm1(x, (h0, c0))\n",
    "        out2, _ = self.lstm2(out1, _)\n",
    "        \n",
    "        fc1 = self.fc1(out2)\n",
    "        out = self.fc2(fc1)\n",
    "        return out.transpose(1,2)"
   ]
  },
  {
   "cell_type": "code",
   "execution_count": 281,
   "id": "8f61e5eb",
   "metadata": {},
   "outputs": [],
   "source": [
    "lstm = LSTM(hidden_size, out_seq_len, num_layers).to(device)\n",
    "adam = optim.Adam(lstm.parameters(), lr = lr)\n",
    "lossFunction = nn.MSELoss().to(device)"
   ]
  },
  {
   "cell_type": "code",
   "execution_count": 282,
   "id": "5763185d",
   "metadata": {
    "scrolled": true
   },
   "outputs": [
    {
     "name": "stderr",
     "output_type": "stream",
     "text": [
      "188it [00:01, 165.89it/s]\n",
      "188it [00:01, 166.48it/s]\n",
      "188it [00:01, 142.14it/s]\n",
      "188it [00:01, 154.39it/s]\n",
      "188it [00:01, 153.00it/s]\n",
      "188it [00:01, 178.91it/s]\n",
      "188it [00:01, 180.61it/s]\n",
      "188it [00:01, 158.48it/s]\n",
      "188it [00:01, 163.74it/s]\n",
      "188it [00:01, 152.22it/s]\n",
      "188it [00:01, 174.35it/s]\n",
      "188it [00:01, 171.50it/s]\n",
      "188it [00:01, 182.17it/s]\n",
      "188it [00:01, 148.93it/s]\n",
      "188it [00:01, 146.12it/s]\n",
      "188it [00:01, 164.32it/s]\n",
      "188it [00:01, 183.10it/s]\n",
      "188it [00:01, 158.55it/s]\n",
      "188it [00:01, 167.60it/s]\n",
      "188it [00:01, 160.59it/s]\n",
      "188it [00:01, 164.80it/s]\n",
      "188it [00:01, 167.72it/s]\n",
      "188it [00:01, 144.20it/s]\n",
      "188it [00:01, 132.91it/s]\n",
      "188it [00:01, 130.03it/s]\n",
      "188it [00:01, 128.82it/s]\n",
      "188it [00:01, 119.30it/s]\n",
      "188it [00:01, 130.09it/s]\n",
      "188it [00:01, 146.10it/s]\n",
      "188it [00:01, 146.65it/s]\n",
      "188it [00:01, 149.55it/s]\n",
      "188it [00:01, 158.58it/s]\n",
      "188it [00:01, 152.33it/s]\n",
      "188it [00:01, 142.52it/s]\n",
      "188it [00:01, 149.35it/s]\n",
      "188it [00:01, 159.43it/s]\n",
      "188it [00:01, 142.98it/s]\n",
      "188it [00:01, 142.64it/s]\n",
      "188it [00:01, 142.15it/s]\n",
      "188it [00:01, 140.07it/s]\n",
      "188it [00:01, 133.37it/s]\n",
      "188it [00:01, 133.49it/s]\n",
      "188it [00:01, 141.59it/s]\n",
      "188it [00:01, 129.90it/s]\n",
      "188it [00:01, 143.41it/s]\n",
      "188it [00:01, 145.29it/s]\n",
      "188it [00:01, 144.87it/s]\n",
      "188it [00:01, 154.01it/s]\n",
      "188it [00:01, 143.57it/s]\n",
      "188it [00:01, 142.44it/s]\n",
      "188it [00:01, 139.72it/s]\n",
      "188it [00:01, 155.41it/s]\n",
      "188it [00:01, 146.78it/s]\n",
      "188it [00:01, 138.34it/s]\n",
      "188it [00:01, 145.03it/s]\n",
      "188it [00:01, 146.72it/s]\n",
      "188it [00:01, 142.58it/s]\n",
      "188it [00:01, 138.77it/s]\n",
      "188it [00:01, 131.55it/s]\n",
      "188it [00:01, 132.96it/s]\n",
      "188it [00:01, 147.21it/s]\n",
      "188it [00:01, 150.61it/s]\n",
      "188it [00:01, 127.99it/s]\n",
      "188it [00:01, 140.12it/s]\n",
      "188it [00:01, 148.34it/s]\n",
      "188it [00:01, 144.87it/s]\n",
      "188it [00:01, 156.53it/s]\n",
      "188it [00:01, 175.45it/s]\n",
      "188it [00:01, 149.50it/s]\n",
      "188it [00:01, 151.54it/s]\n",
      "188it [00:01, 142.91it/s]\n",
      "188it [00:01, 167.41it/s]\n",
      "188it [00:01, 160.94it/s]\n",
      "188it [00:01, 157.36it/s]\n",
      "188it [00:01, 166.37it/s]\n",
      "188it [00:01, 173.84it/s]\n",
      "188it [00:01, 162.47it/s]\n",
      "188it [00:01, 153.26it/s]\n",
      "188it [00:01, 169.49it/s]\n",
      "188it [00:01, 165.58it/s]\n",
      "188it [00:01, 168.70it/s]\n",
      "188it [00:01, 174.37it/s]\n",
      "188it [00:01, 164.78it/s]\n",
      "188it [00:01, 177.37it/s]\n",
      "188it [00:01, 174.47it/s]\n",
      "188it [00:01, 172.95it/s]\n",
      "188it [00:01, 158.00it/s]\n",
      "188it [00:01, 156.85it/s]\n",
      "188it [00:01, 159.50it/s]\n",
      "188it [00:01, 165.11it/s]\n",
      "188it [00:01, 158.75it/s]\n",
      "188it [00:01, 161.41it/s]\n",
      "188it [00:01, 150.19it/s]\n",
      "188it [00:01, 156.88it/s]\n",
      "188it [00:01, 179.25it/s]\n",
      "188it [00:01, 143.93it/s]\n",
      "188it [00:01, 135.26it/s]\n",
      "188it [00:01, 148.58it/s]\n",
      "188it [00:01, 165.68it/s]\n",
      "188it [00:01, 158.74it/s]\n"
     ]
    }
   ],
   "source": [
    "# Trianing with sequence modifying\n",
    "\n",
    "adamLosses = []\n",
    "\n",
    "for n in range(epochs):\n",
    "    for i_batch, sample_batch in tqdm(enumerate(train_loader)):\n",
    "        inp, out = sample_batch\n",
    "        lstm.zero_grad()\n",
    "            \n",
    "        inp = torch.div(torch.sub(inp, torch.tensor([xMean, yMean])), torch.tensor([xStd, yStd])) # Normalization\n",
    "            \n",
    "        inp, out = inp.to(device).to(torch.float32), out.to(device).to(torch.float32) \n",
    "        outputs = lstm(inp.transpose(1,2))\n",
    "        \n",
    "        loss = lossFunction(outputs, out)\n",
    "        adamLosses.append(loss)\n",
    "        loss.backward()\n",
    "        adam.step()"
   ]
  },
  {
   "cell_type": "code",
   "execution_count": 283,
   "id": "7ce266e5",
   "metadata": {
    "scrolled": false
   },
   "outputs": [
    {
     "data": {
      "image/png": "[encoded data removed]",
      "text/plain": [
       "<Figure size 432x288 with 1 Axes>"
      ]
     },
     "metadata": {
      "needs_background": "light"
     },
     "output_type": "display_data"
    }
   ],
   "source": [
    "# Loss plot with Adam optimizer\n",
    "adamLosses = [round(float(x),3) for x in adamLosses]\n",
    "plt.plot(range(len(adamLosses)), adamLosses)\n",
    "plt.show()"
   ]
  },
  {
   "cell_type": "code",
   "execution_count": 284,
   "id": "09e3758e",
   "metadata": {
    "scrolled": true
   },
   "outputs": [
    {
     "data": {
      "text/plain": [
       "[639.547, 533.263, 773.32, 415.454, 576.576, 687.271]"
      ]
     },
     "execution_count": 284,
     "metadata": {},
     "output_type": "execute_result"
    }
   ],
   "source": [
    "adamLosses[-6:]"
   ]
  },
  {
   "cell_type": "code",
   "execution_count": 288,
   "id": "f4731045",
   "metadata": {},
   "outputs": [
    {
     "name": "stderr",
     "output_type": "stream",
     "text": [
      "188it [00:00, 508.92it/s]\n"
     ]
    }
   ],
   "source": [
    "test_dataset  = ArgoverseDataset(city = city, split = 'train')\n",
    "test_loader = DataLoader(test_dataset,batch_size=batch_sz)\n",
    "\n",
    "test_loss = []\n",
    "\n",
    "for i_batch, sample_batch in tqdm(enumerate(test_loader)):\n",
    "    inp, out = sample_batch\n",
    "    inp = torch.div(torch.sub(inp, torch.tensor([xMean, yMean])), torch.tensor([xStd, yStd])) # Normalization\n",
    "\n",
    "    inp, out = inp.to(device).to(torch.float32), out.to(device).to(torch.float32) \n",
    "    outputs = lstm(inp.transpose(1,2))\n",
    "\n",
    "    loss = lossFunction(outputs, out)\n",
    "    test_loss.append(loss)"
   ]
  },
  {
   "cell_type": "code",
   "execution_count": 289,
   "id": "e1d72d7c",
   "metadata": {
    "scrolled": false
   },
   "outputs": [
    {
     "data": {
      "image/png": "[encoded data removed]",
      "text/plain": [
       "<Figure size 432x288 with 1 Axes>"
      ]
     },
     "metadata": {
      "needs_background": "light"
     },
     "output_type": "display_data"
    }
   ],
   "source": [
    "testLosses = [round(float(x),3) for x in test_loss]\n",
    "plt.plot(range(len(testLosses)), testLosses)\n",
    "plt.show()"
   ]
  },
  {
   "cell_type": "code",
   "execution_count": 290,
   "id": "30ff6028",
   "metadata": {
    "scrolled": true
   },
   "outputs": [
    {
     "data": {
      "text/plain": [
       "558.0661968085107"
      ]
     },
     "execution_count": 290,
     "metadata": {},
     "output_type": "execute_result"
    }
   ],
   "source": [
    "np.mean(testLosses)"
   ]
  },
  {
   "cell_type": "code",
   "execution_count": null,
   "id": "02b0b0a7",
   "metadata": {},
   "outputs": [],
   "source": [
    "i = inp[0].transpose(0,1).cpu().detach().numpy()\n",
    "i[0] = i[0]*float(xStd)+float(xMean)\n",
    "i[1] = i[1]*float(yStd)+float(yMean)\n",
    "\n",
    "o = outputs[0].transpose(0,1).cpu().detach().numpy()\n",
    "a = out[0].transpose(0,1).cpu().detach().numpy()\n",
    "\n",
    "plt.scatter(i[0], i[1], label = 'Input')\n",
    "plt.scatter(o[0], o[1], label = 'Model Output')\n",
    "plt.scatter(a[0], a[1], label = 'Actual')\n",
    "plt.legend(loc = 'upper right')\n",
    "plt.show()"
   ]
  },
  {
   "cell_type": "markdown",
   "id": "84164156",
   "metadata": {},
   "source": [
    "### Seperating X any Y's"
   ]
  },
  {
   "cell_type": "code",
   "execution_count": null,
   "id": "a99b6269",
   "metadata": {},
   "outputs": [],
   "source": [
    "\n",
    "\n",
    "hidden_size = 128\n",
    "epochs = 11\n",
    "batch_size = batch_sz\n",
    "lr = 0.01\n",
    "feature_size = 2\n",
    "num_layers = 1\n",
    "out_seq_len = 60"
   ]
  },
  {
   "cell_type": "code",
   "execution_count": null,
   "id": "dd4dc6ce",
   "metadata": {},
   "outputs": [],
   "source": [
    "# Seperating X and Y\n",
    "\n",
    "lstmX = LSTM(hidden_size, out_seq_len, num_layers).to(device)\n",
    "lstmY = LSTM(hidden_size, out_seq_len, num_layers).to(device)\n",
    "\n",
    "adamX = optim.Adam(lstmX.parameters(), lr = lr)\n",
    "adamY = optim.Adam(lstmY.parameters(), lr = lr)\n",
    "\n",
    "lossFunctionX = nn.MSELoss().to(device)\n",
    "lossFunctionY = nn.MSELoss().to(device)"
   ]
  },
  {
   "cell_type": "code",
   "execution_count": null,
   "id": "3b4dd9fe",
   "metadata": {
    "scrolled": false
   },
   "outputs": [],
   "source": [
    "lossesX = []\n",
    "lossesY = []\n",
    "\n",
    "for n in range(epochs):\n",
    "    for i_batch, sample_batch in tqdm(enumerate(train_loader)):\n",
    "        lstmX.zero_grad()\n",
    "        lstmY.zero_grad()\n",
    "        inp, out = sample_batch\n",
    "        out = out.to(device).to(torch.float32) \n",
    "        inp = torch.div(torch.sub(inp, torch.tensor([xMean, yMean])), torch.tensor([xStd, yStd])) # Normalization\n",
    "\n",
    "            \n",
    "        inpTemp = inp.transpose(1,2).split(1, dim = 1) # 0 denotes X coors 1 denotes Y coors\n",
    "        outTemp = out.transpose(1,2).split(1, dim = 1)\n",
    "        \n",
    "        inpX = inpTemp[0]\n",
    "        inpY = inpTemp[1]\n",
    "        \n",
    "            \n",
    "        for n in range(len(inpY)):\n",
    "            scaler = MinMaxScaler()\n",
    "            scaler.fit(inpY[n])\n",
    "            inpY[n] = torch.tensor(scaler.transform(inpY[n])) # MIN MAX SCALING for Y\n",
    "            \n",
    "        inpX = inpX.to(device).to(torch.float32)\n",
    "        inpY = inpY.to(device).to(torch.float32)\n",
    "        \n",
    "        outX = outTemp[0].transpose(1,2)\n",
    "        outY = outTemp[1].transpose(1,2)\n",
    "        \n",
    "        outputsX = lstmX(inpX)\n",
    "        outputsY = lstmY(inpY)\n",
    "        \n",
    "        lossX = lossFunctionX(outputsX, outX)\n",
    "        lossY = lossFunctionY(outputsY, outY)\n",
    "        \n",
    "        lossesX.append(lossX)\n",
    "        lossesY.append(lossY)\n",
    "        lossX.backward()\n",
    "        lossY.backward()\n",
    "        \n",
    "        adamX.step()\n",
    "        adamY.step()"
   ]
  },
  {
   "cell_type": "code",
   "execution_count": null,
   "id": "83f8fe2e",
   "metadata": {
    "scrolled": false
   },
   "outputs": [],
   "source": [
    "\n",
    "plt.plot(range(len(lossesX)), [round(float(x),3) for x in lossesX])"
   ]
  },
  {
   "cell_type": "code",
   "execution_count": null,
   "id": "1558a8ec",
   "metadata": {},
   "outputs": [],
   "source": [
    "\n",
    "plt.plot(range(len(lossesY)), [round(float(x),3) for x in lossesY])"
   ]
  },
  {
   "cell_type": "code",
   "execution_count": null,
   "id": "6f999e53",
   "metadata": {
    "scrolled": true
   },
   "outputs": [],
   "source": [
    "np.mean([int(torch.tensor(lossesX).mean()), int(torch.tensor(lossesY).mean())])"
   ]
  },
  {
   "cell_type": "code",
   "execution_count": null,
   "id": "5faa2f62",
   "metadata": {},
   "outputs": [],
   "source": [
    "torch.cuda.empty_cache()"
   ]
  },
  {
   "cell_type": "markdown",
   "id": "615208da",
   "metadata": {},
   "source": [
    "## 1D conv with LSTM"
   ]
  },
  {
   "cell_type": "code",
   "execution_count": null,
   "id": "caaf36e1",
   "metadata": {},
   "outputs": [],
   "source": [
    "input_size = 2\n",
    "hidden_size = 128\n",
    "output_size = 60\n",
    "batch_size = batch_sz\n",
    "n_layers = 2\n",
    "seq_len = 50\n",
    "epochs = 100"
   ]
  },
  {
   "cell_type": "code",
   "execution_count": null,
   "id": "e6724a93",
   "metadata": {},
   "outputs": [],
   "source": [
    "class Conv(nn.Module):\n",
    "    def __init__(self, input_size, hidden_size, output_size, n_layers=1):\n",
    "        super(Conv, self).__init__()\n",
    "        self.input_size = input_size\n",
    "        self.hidden_size = hidden_size\n",
    "        self.output_size = output_size\n",
    "        self.n_layers = n_layers\n",
    "\n",
    "        self.c1 = nn.Conv1d(input_size, hidden_size, 2)\n",
    "        self.p1 = nn.MaxPool1d(4)\n",
    "        self.c2 = nn.Conv1d(hidden_size, hidden_size, 1)\n",
    "        self.p2 = nn.MaxPool1d(5)\n",
    "        self.lstm1 = nn.LSTM(hidden_size, hidden_size, n_layers, dropout=0.01)\n",
    "        self.lstm2 = nn.LSTM(hidden_size, hidden_size, n_layers, dropout=0.01)\n",
    "        self.out = nn.Linear(hidden_size, output_size)\n",
    "\n",
    "    def forward(self, inputs, hidden):\n",
    "        batch_size = inputs.shape[0]\n",
    "        \n",
    "\n",
    "        # Run through Conv1d and Pool1d layers\n",
    "        c = self.c1(inputs).to(device)\n",
    "        p = self.p1(c).to(device)\n",
    "        c = self.c2(p).to(device)\n",
    "        p = self.p2(c).to(device)\n",
    "        # Turn (batch_size x hidden_size x seq_len) back into (seq_len x batch_size x hidden_size) for RNN\n",
    "        p = p.transpose(1, 2).transpose(0, 1).to(device)\n",
    "        \n",
    "        p = F.relu(p).to(device)\n",
    "        output, hidden = self.lstm1(p, hidden)\n",
    "        output, hidden = self.lstm2(output, hidden)\n",
    "        conv_seq_len = output.shape[0]\n",
    "        output = output.view(conv_seq_len * inputs.shape[0], self.hidden_size).to(device) # Treating (conv_seq_len x batch_size) as batch_size for linear layer\n",
    "#         output = torch.tanh(self.out(output))\n",
    "        output = self.out(output).to(device)\n",
    "        output = output.view( -1, self.output_size, conv_seq_len).to(device)\n",
    "        return output, hidden"
   ]
  },
  {
   "cell_type": "code",
   "execution_count": null,
   "id": "5531f9e7",
   "metadata": {},
   "outputs": [],
   "source": [
    "conv = Conv(input_size, hidden_size, output_size, n_layers=n_layers).to(device)\n",
    "optimizer = optim.Adam(conv.parameters(), lr = 0.01)\n",
    "lossFunction = nn.MSELoss().to(torch.float32)"
   ]
  },
  {
   "cell_type": "code",
   "execution_count": null,
   "id": "852aef72",
   "metadata": {
    "scrolled": true
   },
   "outputs": [],
   "source": [
    "losses = []\n",
    "\n",
    "\n",
    "for n in range(epochs):\n",
    "\n",
    "    for i_batch, sample_batch in tqdm(enumerate(train_loader)):\n",
    "        conv.zero_grad()\n",
    "        inp, out = sample_batch\n",
    "        \n",
    "        inp = torch.div(torch.sub(inp, torch.tensor([xMean, yMean])), torch.tensor([xStd, yStd])) # Normalization\n",
    "        inp, out = inp.to(device).to(torch.float32), out.to(device).to(torch.float32) \n",
    "\n",
    "        outputs, hidden = conv(inp.transpose(1,2), None)\n",
    "        \n",
    "        loss = lossFunction(outputs, out)\n",
    "        losses.append(loss)\n",
    "        loss.backward()\n",
    "        optimizer.step()\n"
   ]
  },
  {
   "cell_type": "code",
   "execution_count": null,
   "id": "527bf50a",
   "metadata": {},
   "outputs": [],
   "source": [
    "losses = [float(x) for x in losses]"
   ]
  },
  {
   "cell_type": "code",
   "execution_count": null,
   "id": "501d26ce",
   "metadata": {
    "scrolled": false
   },
   "outputs": [],
   "source": [
    "plt.plot(range(len(losses)), losses)"
   ]
  },
  {
   "cell_type": "code",
   "execution_count": null,
   "id": "89a1cb96",
   "metadata": {
    "scrolled": true
   },
   "outputs": [],
   "source": [
    "out[0][0]"
   ]
  },
  {
   "cell_type": "code",
   "execution_count": null,
   "id": "1e95267f",
   "metadata": {},
   "outputs": [],
   "source": [
    "outputs[0][0]"
   ]
  },
  {
   "cell_type": "code",
   "execution_count": null,
   "id": "cdee76aa",
   "metadata": {},
   "outputs": [],
   "source": [
    "losses[-6:]"
   ]
  },
  {
   "cell_type": "code",
   "execution_count": null,
   "id": "2ae1566d",
   "metadata": {},
   "outputs": [],
   "source": [
    "# TESTING\n",
    "\n",
    "\n",
    "for i_batch, sample_batch in tqdm(enumerate(train_loader)):\n",
    "        inp, out = sample_batch\n",
    "        inp = torch.div(torch.sub(inp, torch.tensor([xMean, yMean])), torch.tensor([xStd, yStd])) # Normalization\n",
    "            \n",
    "        inp, out = inp.to(device).to(torch.float32), out.to(device).to(torch.float32) \n",
    "        outputs = lstm(inp.transpose(1,2))\n",
    "        \n",
    "        loss = lossFunction(outputs, out)\n",
    "        test_loss.append(loss)\n",
    "        \n",
    "testLosses = [round(float(x),3) for x in test_loss]\n",
    "plt.plot(range(len(testLosses)), testLosses)"
   ]
  },
  {
   "cell_type": "code",
   "execution_count": null,
   "id": "c81f7d8c",
   "metadata": {},
   "outputs": [],
   "source": [
    "testLosses[-6:]"
   ]
  },
  {
   "cell_type": "markdown",
   "id": "92092453",
   "metadata": {},
   "source": [
    "## Combining all cities"
   ]
  },
  {
   "cell_type": "code",
   "execution_count": 343,
   "id": "fd8ab1d1",
   "metadata": {},
   "outputs": [],
   "source": [
    "# Concating all train inputs and shuffling"
   ]
  },
  {
   "cell_type": "code",
   "execution_count": 396,
   "id": "9e54b873",
   "metadata": {},
   "outputs": [],
   "source": [
    "device = torch.device('cuda' if torch.cuda.is_available() else 'cpu')\n",
    "torch.cuda.empty_cache()"
   ]
  },
  {
   "cell_type": "code",
   "execution_count": 397,
   "id": "0e2abc63",
   "metadata": {},
   "outputs": [],
   "source": [
    "cityOneHot = torch.tensor(np.eye(len(cities))) # One Hot encoding for cities"
   ]
  },
  {
   "cell_type": "code",
   "execution_count": 398,
   "id": "d6e9ca7d",
   "metadata": {
    "scrolled": true
   },
   "outputs": [],
   "source": [
    "allTrainInp = torch.empty(0)\n",
    "allTrainOut = torch.empty(0)\n",
    "\n",
    "for n in range(len(cities)):\n",
    "    train_data  = ArgoverseDataset(city = cities[n], split = 'train')\n",
    "    loader = DataLoader(train_data, batch_size=len(train_data))\n",
    "    data = next(iter(loader))\n",
    "    \n",
    "    x = data[0].flatten(0,1).transpose(0,1)[0]\n",
    "    y = data[0].flatten(0,1).transpose(0,1)[1]\n",
    "    xMean, xStd, yMean, yStd = x.mean(), x.std(), y.mean(), y.std()\n",
    "    \n",
    "    inp = torch.div(torch.sub(data[0], torch.tensor([xMean, yMean])), torch.tensor([xStd, yStd]))\n",
    "    out = data[1]\n",
    "    \n",
    "    inp = torch.cat((inp, cityOneHot[n].repeat(inp.shape[0], 50, 1)), 2)\n",
    "    \n",
    "    if allTrainInp.shape[0] == 0:\n",
    "        allTrainInp = inp\n",
    "    if allTrainOut.shape[0] == 0:\n",
    "        allTrainOut = out\n",
    "    else:\n",
    "        allTrainInp = torch.cat((allTrainInp, inp), 0)\n",
    "        allTrainOut = torch.cat((allTrainOut, out), 0)\n",
    "    \n"
   ]
  },
  {
   "cell_type": "code",
   "execution_count": 399,
   "id": "d11e94d5",
   "metadata": {
    "scrolled": true
   },
   "outputs": [
    {
     "data": {
      "text/plain": [
       "torch.Size([203816, 60, 2])"
      ]
     },
     "execution_count": 399,
     "metadata": {},
     "output_type": "execute_result"
    }
   ],
   "source": [
    "allTrainOut.shape"
   ]
  },
  {
   "cell_type": "code",
   "execution_count": 400,
   "id": "08ec54ea",
   "metadata": {},
   "outputs": [],
   "source": [
    "def shufflerow(inpTensor, outTensor, axis):\n",
    "    row_permInp = torch.rand(inpTensor.shape[:axis+1]).argsort(axis)  # get permutation indices\n",
    "    row_permOut = torch.tensor(row_permInp)\n",
    "    print(row_permInp)\n",
    "    print(row_permOut)\n",
    "    for _ in range(inpTensor.ndim-axis-1): \n",
    "        row_permInp.unsqueeze_(-1)\n",
    "    row_permInp = row_permInp.repeat(*[1 for _ in range(axis+1)], *(inpTensor.shape[axis+1:]))  # reformat this for the gather operation\n",
    "    \n",
    "    for _ in range(outTensor.ndim-axis-1): \n",
    "        row_permOut.unsqueeze_(-1)\n",
    "    row_permOut = row_permOut.repeat(*[1 for _ in range(axis+1)], *(outTensor.shape[axis+1:]))\n",
    "    \n",
    "    \n",
    "    return (inpTensor.gather(axis, row_permInp), outTensor.gather(axis, row_permOut))"
   ]
  },
  {
   "cell_type": "code",
   "execution_count": 401,
   "id": "55d021ac",
   "metadata": {
    "scrolled": false
   },
   "outputs": [
    {
     "name": "stderr",
     "output_type": "stream",
     "text": [
      "/tmp/ipykernel_2198/2297281998.py:3: UserWarning: To copy construct from a tensor, it is recommended to use sourceTensor.clone().detach() or sourceTensor.clone().detach().requires_grad_(True), rather than torch.tensor(sourceTensor).\n",
      "  row_permOut = torch.tensor(row_permInp)\n"
     ]
    },
    {
     "name": "stdout",
     "output_type": "stream",
     "text": [
      "tensor([104796,  71739, 196762,  ..., 190806, 158350,  57069])\n",
      "tensor([104796,  71739, 196762,  ..., 190806, 158350,  57069])\n"
     ]
    }
   ],
   "source": [
    "allTrainInp, allTrainOut = shufflerow(allTrainInp, allTrainOut, 0)"
   ]
  },
  {
   "cell_type": "code",
   "execution_count": 402,
   "id": "70546556",
   "metadata": {},
   "outputs": [],
   "source": [
    "# Parameter initialization\n",
    "\n",
    "hidden_size = 256\n",
    "epochs = 100\n",
    "lr = 0.01\n",
    "num_layers = 2\n",
    "out_seq_len = 60\n",
    "inp_seq_len = 50"
   ]
  },
  {
   "cell_type": "code",
   "execution_count": 403,
   "id": "a8f94d1b",
   "metadata": {},
   "outputs": [],
   "source": [
    "class LSTM(nn.Module):\n",
    "    def __init__(self, feature_size, hidden_size, num_layers):\n",
    "        super(LSTM, self).__init__()\n",
    "        \n",
    "        self.feature_size = feature_size\n",
    "        self.hidden_size = hidden_size\n",
    "        self.num_layers = num_layers\n",
    "\n",
    "        self.lstm1 = nn.LSTM(inp_seq_len, hidden_size, num_layers, batch_first = True)\n",
    "        self.lstm2 = nn.LSTM(hidden_size, hidden_size, num_layers, batch_first = True)\n",
    "#         x -> (batch_size, seq_len, input_size)\n",
    "        self.fc1 = nn.Linear(hidden_size, hidden_size)\n",
    "        self.fc2 = nn.Linear(hidden_size, out_seq_len)\n",
    "    \n",
    "    def forward(self,x):\n",
    "        h0 = torch.zeros(self.num_layers, x.shape[0], self.hidden_size).to(device)\n",
    "        c0 = torch.zeros(self.num_layers, x.shape[0], self.hidden_size).to(device)\n",
    "             \n",
    "        out1, _ = self.lstm1(x, (h0, c0))\n",
    "        out2, _ = self.lstm2(out1, _)\n",
    "        \n",
    "        fc1 = self.fc1(out2)\n",
    "        out = self.fc2(fc1)\n",
    "        return out.transpose(1,2)"
   ]
  },
  {
   "cell_type": "code",
   "execution_count": 404,
   "id": "caa9a4c5",
   "metadata": {},
   "outputs": [],
   "source": [
    "lstm = LSTM(hidden_size, out_seq_len, num_layers).to(device)\n",
    "adam = optim.Adam(lstm.parameters(), lr = lr)\n",
    "lossFunction = nn.MSELoss().to(device)"
   ]
  },
  {
   "cell_type": "code",
   "execution_count": 405,
   "id": "7a8f31ab",
   "metadata": {},
   "outputs": [
    {
     "ename": "RuntimeError",
     "evalue": "CUDA error: invalid configuration argument\nCUDA kernel errors might be asynchronously reported at some other API call,so the stacktrace below might be incorrect.\nFor debugging consider passing CUDA_LAUNCH_BLOCKING=1.",
     "output_type": "error",
     "traceback": [
      "\u001b[0;31m---------------------------------------------------------------------------\u001b[0m",
      "\u001b[0;31mRuntimeError\u001b[0m                              Traceback (most recent call last)",
      "\u001b[0;32m/tmp/ipykernel_2198/3834287077.py\u001b[0m in \u001b[0;36m<module>\u001b[0;34m\u001b[0m\n\u001b[1;32m      9\u001b[0m \u001b[0;34m\u001b[0m\u001b[0m\n\u001b[1;32m     10\u001b[0m             \u001b[0minp\u001b[0m\u001b[0;34m,\u001b[0m \u001b[0mout\u001b[0m \u001b[0;34m=\u001b[0m \u001b[0minp\u001b[0m\u001b[0;34m.\u001b[0m\u001b[0mto\u001b[0m\u001b[0;34m(\u001b[0m\u001b[0mdevice\u001b[0m\u001b[0;34m)\u001b[0m\u001b[0;34m.\u001b[0m\u001b[0mto\u001b[0m\u001b[0;34m(\u001b[0m\u001b[0mtorch\u001b[0m\u001b[0;34m.\u001b[0m\u001b[0mfloat32\u001b[0m\u001b[0;34m)\u001b[0m\u001b[0;34m,\u001b[0m \u001b[0mout\u001b[0m\u001b[0;34m.\u001b[0m\u001b[0mto\u001b[0m\u001b[0;34m(\u001b[0m\u001b[0mdevice\u001b[0m\u001b[0;34m)\u001b[0m\u001b[0;34m.\u001b[0m\u001b[0mto\u001b[0m\u001b[0;34m(\u001b[0m\u001b[0mtorch\u001b[0m\u001b[0;34m.\u001b[0m\u001b[0mfloat32\u001b[0m\u001b[0;34m)\u001b[0m\u001b[0;34m\u001b[0m\u001b[0;34m\u001b[0m\u001b[0m\n\u001b[0;32m---> 11\u001b[0;31m             \u001b[0moutputs\u001b[0m \u001b[0;34m=\u001b[0m \u001b[0mlstm\u001b[0m\u001b[0;34m(\u001b[0m\u001b[0minp\u001b[0m\u001b[0;34m.\u001b[0m\u001b[0mtranspose\u001b[0m\u001b[0;34m(\u001b[0m\u001b[0;36m1\u001b[0m\u001b[0;34m,\u001b[0m\u001b[0;36m2\u001b[0m\u001b[0;34m)\u001b[0m\u001b[0;34m)\u001b[0m\u001b[0;34m\u001b[0m\u001b[0;34m\u001b[0m\u001b[0m\n\u001b[0m\u001b[1;32m     12\u001b[0m \u001b[0;34m\u001b[0m\u001b[0m\n\u001b[1;32m     13\u001b[0m             \u001b[0mloss\u001b[0m \u001b[0;34m=\u001b[0m \u001b[0mlossFunction\u001b[0m\u001b[0;34m(\u001b[0m\u001b[0moutputs\u001b[0m\u001b[0;34m,\u001b[0m \u001b[0mout\u001b[0m\u001b[0;34m)\u001b[0m\u001b[0;34m\u001b[0m\u001b[0;34m\u001b[0m\u001b[0m\n",
      "\u001b[0;32m/opt/conda/lib/python3.9/site-packages/torch/nn/modules/module.py\u001b[0m in \u001b[0;36m_call_impl\u001b[0;34m(self, *input, **kwargs)\u001b[0m\n\u001b[1;32m   1049\u001b[0m         if not (self._backward_hooks or self._forward_hooks or self._forward_pre_hooks or _global_backward_hooks\n\u001b[1;32m   1050\u001b[0m                 or _global_forward_hooks or _global_forward_pre_hooks):\n\u001b[0;32m-> 1051\u001b[0;31m             \u001b[0;32mreturn\u001b[0m \u001b[0mforward_call\u001b[0m\u001b[0;34m(\u001b[0m\u001b[0;34m*\u001b[0m\u001b[0minput\u001b[0m\u001b[0;34m,\u001b[0m \u001b[0;34m**\u001b[0m\u001b[0mkwargs\u001b[0m\u001b[0;34m)\u001b[0m\u001b[0;34m\u001b[0m\u001b[0;34m\u001b[0m\u001b[0m\n\u001b[0m\u001b[1;32m   1052\u001b[0m         \u001b[0;31m# Do not call functions when jit is used\u001b[0m\u001b[0;34m\u001b[0m\u001b[0;34m\u001b[0m\u001b[0;34m\u001b[0m\u001b[0m\n\u001b[1;32m   1053\u001b[0m         \u001b[0mfull_backward_hooks\u001b[0m\u001b[0;34m,\u001b[0m \u001b[0mnon_full_backward_hooks\u001b[0m \u001b[0;34m=\u001b[0m \u001b[0;34m[\u001b[0m\u001b[0;34m]\u001b[0m\u001b[0;34m,\u001b[0m \u001b[0;34m[\u001b[0m\u001b[0;34m]\u001b[0m\u001b[0;34m\u001b[0m\u001b[0;34m\u001b[0m\u001b[0m\n",
      "\u001b[0;32m/tmp/ipykernel_2198/2659651139.py\u001b[0m in \u001b[0;36mforward\u001b[0;34m(self, x)\u001b[0m\n\u001b[1;32m     17\u001b[0m         \u001b[0mc0\u001b[0m \u001b[0;34m=\u001b[0m \u001b[0mtorch\u001b[0m\u001b[0;34m.\u001b[0m\u001b[0mzeros\u001b[0m\u001b[0;34m(\u001b[0m\u001b[0mself\u001b[0m\u001b[0;34m.\u001b[0m\u001b[0mnum_layers\u001b[0m\u001b[0;34m,\u001b[0m \u001b[0mx\u001b[0m\u001b[0;34m.\u001b[0m\u001b[0mshape\u001b[0m\u001b[0;34m[\u001b[0m\u001b[0;36m0\u001b[0m\u001b[0;34m]\u001b[0m\u001b[0;34m,\u001b[0m \u001b[0mself\u001b[0m\u001b[0;34m.\u001b[0m\u001b[0mhidden_size\u001b[0m\u001b[0;34m)\u001b[0m\u001b[0;34m.\u001b[0m\u001b[0mto\u001b[0m\u001b[0;34m(\u001b[0m\u001b[0mdevice\u001b[0m\u001b[0;34m)\u001b[0m\u001b[0;34m\u001b[0m\u001b[0;34m\u001b[0m\u001b[0m\n\u001b[1;32m     18\u001b[0m \u001b[0;34m\u001b[0m\u001b[0m\n\u001b[0;32m---> 19\u001b[0;31m         \u001b[0mout1\u001b[0m\u001b[0;34m,\u001b[0m \u001b[0m_\u001b[0m \u001b[0;34m=\u001b[0m \u001b[0mself\u001b[0m\u001b[0;34m.\u001b[0m\u001b[0mlstm1\u001b[0m\u001b[0;34m(\u001b[0m\u001b[0mx\u001b[0m\u001b[0;34m,\u001b[0m \u001b[0;34m(\u001b[0m\u001b[0mh0\u001b[0m\u001b[0;34m,\u001b[0m \u001b[0mc0\u001b[0m\u001b[0;34m)\u001b[0m\u001b[0;34m)\u001b[0m\u001b[0;34m\u001b[0m\u001b[0;34m\u001b[0m\u001b[0m\n\u001b[0m\u001b[1;32m     20\u001b[0m         \u001b[0mout2\u001b[0m\u001b[0;34m,\u001b[0m \u001b[0m_\u001b[0m \u001b[0;34m=\u001b[0m \u001b[0mself\u001b[0m\u001b[0;34m.\u001b[0m\u001b[0mlstm2\u001b[0m\u001b[0;34m(\u001b[0m\u001b[0mout1\u001b[0m\u001b[0;34m,\u001b[0m \u001b[0m_\u001b[0m\u001b[0;34m)\u001b[0m\u001b[0;34m\u001b[0m\u001b[0;34m\u001b[0m\u001b[0m\n\u001b[1;32m     21\u001b[0m \u001b[0;34m\u001b[0m\u001b[0m\n",
      "\u001b[0;32m/opt/conda/lib/python3.9/site-packages/torch/nn/modules/module.py\u001b[0m in \u001b[0;36m_call_impl\u001b[0;34m(self, *input, **kwargs)\u001b[0m\n\u001b[1;32m   1049\u001b[0m         if not (self._backward_hooks or self._forward_hooks or self._forward_pre_hooks or _global_backward_hooks\n\u001b[1;32m   1050\u001b[0m                 or _global_forward_hooks or _global_forward_pre_hooks):\n\u001b[0;32m-> 1051\u001b[0;31m             \u001b[0;32mreturn\u001b[0m \u001b[0mforward_call\u001b[0m\u001b[0;34m(\u001b[0m\u001b[0;34m*\u001b[0m\u001b[0minput\u001b[0m\u001b[0;34m,\u001b[0m \u001b[0;34m**\u001b[0m\u001b[0mkwargs\u001b[0m\u001b[0;34m)\u001b[0m\u001b[0;34m\u001b[0m\u001b[0;34m\u001b[0m\u001b[0m\n\u001b[0m\u001b[1;32m   1052\u001b[0m         \u001b[0;31m# Do not call functions when jit is used\u001b[0m\u001b[0;34m\u001b[0m\u001b[0;34m\u001b[0m\u001b[0;34m\u001b[0m\u001b[0m\n\u001b[1;32m   1053\u001b[0m         \u001b[0mfull_backward_hooks\u001b[0m\u001b[0;34m,\u001b[0m \u001b[0mnon_full_backward_hooks\u001b[0m \u001b[0;34m=\u001b[0m \u001b[0;34m[\u001b[0m\u001b[0;34m]\u001b[0m\u001b[0;34m,\u001b[0m \u001b[0;34m[\u001b[0m\u001b[0;34m]\u001b[0m\u001b[0;34m\u001b[0m\u001b[0;34m\u001b[0m\u001b[0m\n",
      "\u001b[0;32m/opt/conda/lib/python3.9/site-packages/torch/nn/modules/rnn.py\u001b[0m in \u001b[0;36mforward\u001b[0;34m(self, input, hx)\u001b[0m\n\u001b[1;32m    677\u001b[0m         \u001b[0mself\u001b[0m\u001b[0;34m.\u001b[0m\u001b[0mcheck_forward_args\u001b[0m\u001b[0;34m(\u001b[0m\u001b[0minput\u001b[0m\u001b[0;34m,\u001b[0m \u001b[0mhx\u001b[0m\u001b[0;34m,\u001b[0m \u001b[0mbatch_sizes\u001b[0m\u001b[0;34m)\u001b[0m\u001b[0;34m\u001b[0m\u001b[0;34m\u001b[0m\u001b[0m\n\u001b[1;32m    678\u001b[0m         \u001b[0;32mif\u001b[0m \u001b[0mbatch_sizes\u001b[0m \u001b[0;32mis\u001b[0m \u001b[0;32mNone\u001b[0m\u001b[0;34m:\u001b[0m\u001b[0;34m\u001b[0m\u001b[0;34m\u001b[0m\u001b[0m\n\u001b[0;32m--> 679\u001b[0;31m             result = _VF.lstm(input, hx, self._flat_weights, self.bias, self.num_layers,\n\u001b[0m\u001b[1;32m    680\u001b[0m                               self.dropout, self.training, self.bidirectional, self.batch_first)\n\u001b[1;32m    681\u001b[0m         \u001b[0;32melse\u001b[0m\u001b[0;34m:\u001b[0m\u001b[0;34m\u001b[0m\u001b[0;34m\u001b[0m\u001b[0m\n",
      "\u001b[0;31mRuntimeError\u001b[0m: CUDA error: invalid configuration argument\nCUDA kernel errors might be asynchronously reported at some other API call,so the stacktrace below might be incorrect.\nFor debugging consider passing CUDA_LAUNCH_BLOCKING=1."
     ]
    }
   ],
   "source": [
    "trainLosses = []\n",
    "\n",
    "for n in range(epochs):\n",
    "    prev = 0\n",
    "    for i in range(0, allTrainInp.shape[0], batch_sz):\n",
    "        while i <= allTrainInp.shape[0]:\n",
    "            inp, out = allTrainInp[prev-i: i, :, :], allTrainOut[prev-i: i, :, :]\n",
    "            lstm.zero_grad()\n",
    "\n",
    "            inp, out = inp.to(device).to(torch.float32), out.to(device).to(torch.float32) \n",
    "            outputs = lstm(inp.transpose(1,2))\n",
    "\n",
    "            loss = lossFunction(outputs, out)\n",
    "            adamLosses.append(loss)\n",
    "            loss.backward()\n",
    "            adam.step()\n",
    "            prev += i"
   ]
  },
  {
   "cell_type": "code",
   "execution_count": null,
   "id": "2f88afbe",
   "metadata": {},
   "outputs": [],
   "source": [
    "    "
   ]
  }
 ],
 "metadata": {
  "kernelspec": {
   "display_name": "Python 3 (ipykernel)",
   "language": "python",
   "name": "python3"
  },
  "language_info": {
   "codemirror_mode": {
    "name": "ipython",
    "version": 3
   },
   "file_extension": ".py",
   "mimetype": "text/x-python",
   "name": "python",
   "nbconvert_exporter": "python",
   "pygments_lexer": "ipython3",
   "version": "3.9.5"
  }
 },
 "nbformat": 4,
 "nbformat_minor": 5
}
